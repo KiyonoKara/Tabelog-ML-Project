{
 "cells": [
  {
   "cell_type": "markdown",
   "source": [
    "# Collaborative Filtering for Tabelog (食べログ)\n",
    "\n",
    "Use user ratings of selected restaurants / stores to impute missing ratings, then use the completed data to give an estimate for the overall rating, food rating, service rating, atmosphere rating, price rating, and drink rating.\n",
    "\n",
    "Translations and columns:\n",
    "- 料理・味 - Food and taste - food\n",
    "- サービス - Service - service\n",
    "- 雰囲気 - Atmosphere - atmosphere\n",
    "- CP - Cost Performance (price) - cp\n",
    "- 酒・ドリンク - Alcohol and drink - drink"
   ],
   "metadata": {
    "collapsed": false
   },
   "id": "d9438b80e5389016"
  },
  {
   "cell_type": "code",
   "outputs": [],
   "source": [
    "import pandas as pd\n",
    "import numpy as np"
   ],
   "metadata": {
    "collapsed": false,
    "ExecuteTime": {
     "end_time": "2025-04-13T01:28:20.105326Z",
     "start_time": "2025-04-13T01:28:20.102756Z"
    }
   },
   "id": "e86667e64f16b0c0",
   "execution_count": 5
  },
  {
   "cell_type": "code",
   "outputs": [
    {
     "data": {
      "text/plain": "   user_id  overall_rating  food  service  atmosphere  price  drink\n0        1             4.5   4.0      5.0         4.0    5.0    4.0\n1        2             4.2   4.2      4.2         3.8    4.2    4.0\n2        3             5.0   NaN      NaN         NaN    NaN    NaN\n3        4             3.5   NaN      NaN         NaN    NaN    NaN\n4        5             4.0   NaN      NaN         NaN    NaN    NaN",
      "text/html": "<div>\n<style scoped>\n    .dataframe tbody tr th:only-of-type {\n        vertical-align: middle;\n    }\n\n    .dataframe tbody tr th {\n        vertical-align: top;\n    }\n\n    .dataframe thead th {\n        text-align: right;\n    }\n</style>\n<table border=\"1\" class=\"dataframe\">\n  <thead>\n    <tr style=\"text-align: right;\">\n      <th></th>\n      <th>user_id</th>\n      <th>overall_rating</th>\n      <th>food</th>\n      <th>service</th>\n      <th>atmosphere</th>\n      <th>price</th>\n      <th>drink</th>\n    </tr>\n  </thead>\n  <tbody>\n    <tr>\n      <th>0</th>\n      <td>1</td>\n      <td>4.5</td>\n      <td>4.0</td>\n      <td>5.0</td>\n      <td>4.0</td>\n      <td>5.0</td>\n      <td>4.0</td>\n    </tr>\n    <tr>\n      <th>1</th>\n      <td>2</td>\n      <td>4.2</td>\n      <td>4.2</td>\n      <td>4.2</td>\n      <td>3.8</td>\n      <td>4.2</td>\n      <td>4.0</td>\n    </tr>\n    <tr>\n      <th>2</th>\n      <td>3</td>\n      <td>5.0</td>\n      <td>NaN</td>\n      <td>NaN</td>\n      <td>NaN</td>\n      <td>NaN</td>\n      <td>NaN</td>\n    </tr>\n    <tr>\n      <th>3</th>\n      <td>4</td>\n      <td>3.5</td>\n      <td>NaN</td>\n      <td>NaN</td>\n      <td>NaN</td>\n      <td>NaN</td>\n      <td>NaN</td>\n    </tr>\n    <tr>\n      <th>4</th>\n      <td>5</td>\n      <td>4.0</td>\n      <td>NaN</td>\n      <td>NaN</td>\n      <td>NaN</td>\n      <td>NaN</td>\n      <td>NaN</td>\n    </tr>\n  </tbody>\n</table>\n</div>"
     },
     "execution_count": 7,
     "metadata": {},
     "output_type": "execute_result"
    }
   ],
   "source": [
    "restaurant_data = pd.read_csv('./data/tabelog_review_data/tabelog_Bacchusのさら_review_data.csv')\n",
    "restaurant_data.head()"
   ],
   "metadata": {
    "collapsed": false,
    "ExecuteTime": {
     "end_time": "2025-04-13T01:28:49.103803Z",
     "start_time": "2025-04-13T01:28:49.063655Z"
    }
   },
   "id": "afe5a6977be27615",
   "execution_count": 7
  },
  {
   "cell_type": "code",
   "outputs": [],
   "source": [],
   "metadata": {
    "collapsed": false
   },
   "id": "d19098ef63bb2cc7"
  }
 ],
 "metadata": {
  "kernelspec": {
   "display_name": "Python 3",
   "language": "python",
   "name": "python3"
  },
  "language_info": {
   "codemirror_mode": {
    "name": "ipython",
    "version": 2
   },
   "file_extension": ".py",
   "mimetype": "text/x-python",
   "name": "python",
   "nbconvert_exporter": "python",
   "pygments_lexer": "ipython2",
   "version": "2.7.6"
  }
 },
 "nbformat": 4,
 "nbformat_minor": 5
}
